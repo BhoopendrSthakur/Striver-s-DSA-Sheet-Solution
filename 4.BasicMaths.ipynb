{
 "cells": [
  {
   "cell_type": "markdown",
   "metadata": {},
   "source": [
    "Count Digits\n",
    "\n",
    "Input:N = 12345\n",
    "\n",
    "Output:5"
   ]
  },
  {
   "cell_type": "code",
   "execution_count": null,
   "metadata": {},
   "outputs": [],
   "source": [
    "\n",
    "# Function to count the number\n",
    "# of digits in an integer 'n'.\n",
    "def countDigits(n):\n",
    "    # Initialize a counter variable\n",
    "    # 'cnt' to store the count of digits.\n",
    "    cnt = 0\n",
    "    # While loop iterates until 'n'\n",
    "    # becomes 0 (no more digits left).\n",
    "    while n > 0:\n",
    "        # Increment the counter\n",
    "        # for each digit encountered.\n",
    "        cnt = cnt + 1\n",
    "        # Divide 'n' by 10 to\n",
    "        # remove the last digit.\n",
    "        n = n // 10\n",
    "    # Return the\n",
    "    # count of digits.\n",
    "    return cnt\n"
   ]
  },
  {
   "cell_type": "code",
   "execution_count": null,
   "metadata": {},
   "outputs": [],
   "source": [
    "import math\n",
    "\n",
    "# Calculate the count of digits in 'n'\n",
    "# using logarithmic operation log10(n) + 1.\n",
    "def countDigits(n):\n",
    "    # Initialize a variable 'cnt' to\n",
    "    # store the count of digits.\n",
    "    cnt = int(math.log10(n) + 1)\n",
    "\n",
    "    # The expression int(math.log10(n) + 1)\n",
    "    # calculates the number of digits in 'n'\n",
    "    # and casts it to an integer.\n",
    "    \n",
    "    # Adding 1 to the result accounts\n",
    "    # for the case when 'n' is a power of 10,\n",
    "    # ensuring that the count is correct.\n",
    "   \n",
    "    # Finally, the result is cast\n",
    "    # to an integer to ensure it is rounded\n",
    "    # down to the nearest whole number.\n",
    "    \n",
    "    # Return the count of digits in 'n'.\n",
    "    return cnt"
   ]
  },
  {
   "cell_type": "markdown",
   "metadata": {},
   "source": [
    "https://www.geeksforgeeks.org/problems/count-digits5716/1"
   ]
  },
  {
   "cell_type": "markdown",
   "metadata": {},
   "source": [
    "Reverse a Number"
   ]
  },
  {
   "cell_type": "code",
   "execution_count": null,
   "metadata": {},
   "outputs": [],
   "source": [
    "# Prompt the user to enter an\n",
    "# integer and store it in 'n'.\n",
    "n = int(input(\"Enter an integer: \"))\n",
    "# Initialize a variable 'revNum' to\n",
    "# store the reverse of the input integer.\n",
    "revNum = 0\n",
    "# Start a while loop to reverse the\n",
    "# digits of the input integer.\n",
    "while n > 0:\n",
    "    # Extract the last digit of\n",
    "    # 'n' and store it in 'ld'.\n",
    "    ld = n % 10\n",
    "    # Multiply the current reverse number\n",
    "    # by 10 and add the last digit.\n",
    "    revNum = (revNum * 10) + ld\n",
    "    # Remove the last digit from 'n'.\n",
    "    n = n // 10\n",
    "# Print the reversed number.\n",
    "print(revNum)"
   ]
  },
  {
   "cell_type": "markdown",
   "metadata": {},
   "source": [
    "https://leetcode.com/problems/reverse-integer/description/"
   ]
  },
  {
   "cell_type": "markdown",
   "metadata": {},
   "source": [
    "Check Palindrome"
   ]
  },
  {
   "cell_type": "code",
   "execution_count": null,
   "metadata": {},
   "outputs": [],
   "source": [
    "# Function to check if a\n",
    "# given integer is a palindrome\n",
    "def palindrome(n):\n",
    "    # Initialize a variable to\n",
    "    # store the reverse of the number\n",
    "    revNum = 0\n",
    "    # Create a duplicate variable to\n",
    "    # store the original number\n",
    "    dup = n\n",
    "    # Iterate through each digit of\n",
    "    # the number until it becomes 0\n",
    "    while n > 0:\n",
    "        # Extract the last\n",
    "        # digit of the number\n",
    "        ld = n % 10\n",
    "        # Build the reverse number\n",
    "        # by appending the last digit\n",
    "        revNum = (revNum * 10) + ld\n",
    "        # Remove the last digit\n",
    "        # from the original number\n",
    "        n = n // 10\n",
    "    # Check if the original number\n",
    "    # is equal to its reverse\n",
    "    if dup == revNum:\n",
    "        # If equal, return True\n",
    "        # indicating it's a palindrome\n",
    "        return True\n",
    "    else:\n",
    "        # If not equal, return False\n",
    "        # indicating it's not a palindrome\n",
    "        return False"
   ]
  },
  {
   "cell_type": "markdown",
   "metadata": {},
   "source": [
    "https://leetcode.com/problems/palindrome-number/description/"
   ]
  },
  {
   "cell_type": "markdown",
   "metadata": {},
   "source": [
    "\t\n",
    "GCD Or HCF"
   ]
  },
  {
   "cell_type": "code",
   "execution_count": null,
   "metadata": {},
   "outputs": [],
   "source": [
    "def find_gcd(n1, n2):\n",
    "    # Initialize gcd to 1\n",
    "    gcd = 1\n",
    "\n",
    "    # Iterate from 1 up to\n",
    "    # the minimum of n1 and n2\n",
    "    for i in range(1, min(n1, n2) + 1):\n",
    "        # Check if i is a common\n",
    "        # factor of both n1 and n2\n",
    "        if n1 % i == 0 and n2 % i == 0:\n",
    "            # Update gcd to the\n",
    "            # current common factor i\n",
    "            gcd = i\n",
    "\n",
    "    # Return the greatest\n",
    "    # common divisor (gcd)\n",
    "    return gcd"
   ]
  },
  {
   "cell_type": "code",
   "execution_count": null,
   "metadata": {},
   "outputs": [],
   "source": [
    "def findGcd(n1, n2):\n",
    "    # Iterate from the minimum of\n",
    "    # n1 and n2 down to 1\n",
    "    # Start from the minimum of n1 and n2\n",
    "    # because the GCD cannot\n",
    "    # exceed the smaller number\n",
    "    \n",
    "    for i in range(min(n1, n2), 0, -1):\n",
    "        # Check if i is a common\n",
    "        # factor of both n1 and n2\n",
    "        if n1 % i == 0 and n2 % i == 0:\n",
    "            # If i is a common factor,\n",
    "            # return it as the GCD\n",
    "            return i\n",
    "    # If no common factors are found,\n",
    "    # return 1 (as 1 is always a\n",
    "    # divisor of any number)\n",
    "    return 1"
   ]
  },
  {
   "cell_type": "code",
   "execution_count": null,
   "metadata": {},
   "outputs": [],
   "source": [
    "def find_gcd(a, b):\n",
    "    # Continue loop as long as both\n",
    "    # a and b are greater than 0\n",
    "    while a > 0 and b > 0:\n",
    "        # If a is greater than b,\n",
    "        # subtract b from a and update a\n",
    "        if a > b:\n",
    "            # Update a to the remainder\n",
    "            # of a divided by b\n",
    "            a = a % b\n",
    "        # If b is greater than or equal\n",
    "        # to a, subtract a from b and update b\n",
    "        else:\n",
    "            # Update b to the remainder\n",
    "            # of b divided by a\n",
    "            b = b % a\n",
    "    # Check if a becomes 0,\n",
    "    # if so, return b as the GCD\n",
    "    if a == 0:\n",
    "        return b\n",
    "    # If a is not 0,\n",
    "    # return a as the GCD\n",
    "    return a"
   ]
  },
  {
   "cell_type": "markdown",
   "metadata": {},
   "source": [
    "https://www.geeksforgeeks.org/problems/lcm-and-gcd4516/1"
   ]
  },
  {
   "cell_type": "markdown",
   "metadata": {},
   "source": [
    "Check if a number is Armstrong Number or not"
   ]
  },
  {
   "cell_type": "code",
   "execution_count": null,
   "metadata": {},
   "outputs": [],
   "source": [
    "# Function to check if a\n",
    "# number is an Armstrong number\n",
    "def isArmstrong(num):\n",
    "    # Calculate the number of\n",
    "    # digits in the given number\n",
    "    k = len(str(num))\n",
    "    # Initialize the sum of digits\n",
    "    # raised to the power of k to 0\n",
    "    sum = 0\n",
    "    # Copy the value of the input\n",
    "    # number to a temporary variable n\n",
    "    n = num\n",
    "    # Iterate through each\n",
    "    # digit of the number\n",
    "    while n > 0:\n",
    "        # Extract the last\n",
    "        # digit of the number\n",
    "        ld = n % 10\n",
    "        # Add the digit raised to\n",
    "        # the power of k to the sum\n",
    "        sum += ld ** k\n",
    "        # Remove the last digit\n",
    "        # from the number\n",
    "        n = n // 10\n",
    "    # Check if the sum of digits raised to\n",
    "    # the power of k equals the original number\n",
    "    return sum == num\n"
   ]
  },
  {
   "cell_type": "markdown",
   "metadata": {},
   "source": []
  },
  {
   "cell_type": "code",
   "execution_count": null,
   "metadata": {
    "vscode": {
     "languageId": "plaintext"
    }
   },
   "outputs": [],
   "source": [
    "Print all Divisors"
   ]
  },
  {
   "cell_type": "code",
   "execution_count": null,
   "metadata": {},
   "outputs": [],
   "source": [
    "import math\n",
    "\n",
    "def findDivisors(n):\n",
    "    # Initialize an empty\n",
    "    # list to store the divisors\n",
    "    divisors = [] \n",
    "\n",
    "    # Iterate up to the square\n",
    "    # root of n to find divisors\n",
    "    # Calculate the square root of n\n",
    "    sqrtN = int(math.sqrt(n)) \n",
    "    \n",
    "    # Loop from 1 to the\n",
    "    # square root of n\n",
    "    for i in range(1, sqrtN + 1): \n",
    "        # Check if i divides n\n",
    "        # without leaving a remainder\n",
    "        if n % i == 0: \n",
    "            # Add divisor i to the list\n",
    "            divisors.append(i) \n",
    "\n",
    "            # Add the counterpart divisor\n",
    "            # if it's different from i\n",
    "            if i != n // i:\n",
    "                # Add the counterpart\n",
    "                # divisor to the list\n",
    "                divisors.append(n // i) \n",
    "    \n",
    "    # Return the list of divisors\n",
    "    return divisors "
   ]
  },
  {
   "cell_type": "markdown",
   "metadata": {},
   "source": [
    "https://www.geeksforgeeks.org/problems/sum-of-all-divisors-from-1-to-n4738/1"
   ]
  },
  {
   "cell_type": "markdown",
   "metadata": {},
   "source": [
    "Check for Prime"
   ]
  },
  {
   "cell_type": "code",
   "execution_count": null,
   "metadata": {},
   "outputs": [],
   "source": [
    "# Function to check if a\n",
    "# given number is prime.\n",
    "def checkPrime(n):\n",
    "    # Initialize a counter variable to\n",
    "    # count the number of factors.\n",
    "    cnt = 0\n",
    "    # Loop through numbers from 1 to n.\n",
    "    for i in range(1, n+1):\n",
    "        # If n is divisible by i\n",
    "        # without any remainder.\n",
    "        if n % i == 0:\n",
    "            # Increment the counter.\n",
    "            cnt = cnt + 1\n",
    "\n",
    "    # If the number of\n",
    "    # factors is exactly 2\n",
    "    if cnt == 2:\n",
    "        # Return True, indicating\n",
    "        # that the number is prime.\n",
    "        return True\n",
    "    # If the number of\n",
    "    # factors is not 2.\n",
    "    else:\n",
    "        # Return False, indicating\n",
    "        # that the number is not prime.\n",
    "        return False"
   ]
  },
  {
   "cell_type": "code",
   "execution_count": null,
   "metadata": {},
   "outputs": [],
   "source": [
    "import math\n",
    "\n",
    "# Function to check if a\n",
    "# given number is prime.\n",
    "def checkPrime(n):\n",
    "    # Initialize a counter variable to\n",
    "    # count the number of factors.\n",
    "    cnt = 0\n",
    "\n",
    "    # Loop through numbers from 1\n",
    "    # to the square root of n.\n",
    "    for i in range(1, int(math.sqrt(n)) + 1):\n",
    "        # If n is divisible by i\n",
    "        # without any remainder.\n",
    "        if n % i == 0:\n",
    "            # Increment the counter.\n",
    "            cnt = cnt + 1\n",
    "\n",
    "            # If n is not a perfect square,\n",
    "            # count its reciprocal factor.\n",
    "            if n // i != i:\n",
    "                cnt = cnt + 1\n",
    "\n",
    "    # If the number of\n",
    "    # factors is exactly 2.\n",
    "    if cnt == 2:\n",
    "         # Return true, indicating\n",
    "         # that the number is prime.\n",
    "        return True\n",
    "    # If the number of\n",
    "    # factors is not 2.\n",
    "    else: \n",
    "        # Return false, indicating\n",
    "        # that the number is not prime.\n",
    "        return False"
   ]
  },
  {
   "cell_type": "markdown",
   "metadata": {},
   "source": [
    "https://www.geeksforgeeks.org/problems/minimum-number-of-jumps-1587115620/1"
   ]
  },
  {
   "cell_type": "markdown",
   "metadata": {},
   "source": []
  }
 ],
 "metadata": {
  "language_info": {
   "name": "python"
  }
 },
 "nbformat": 4,
 "nbformat_minor": 2
}
