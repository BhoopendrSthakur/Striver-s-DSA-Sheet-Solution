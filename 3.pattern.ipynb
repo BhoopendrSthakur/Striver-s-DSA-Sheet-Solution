{
 "cells": [
  {
   "cell_type": "raw",
   "metadata": {
    "vscode": {
     "languageId": "raw"
    }
   },
   "source": [
    "* * *\n",
    "* * *\n",
    "* * *"
   ]
  },
  {
   "cell_type": "code",
   "execution_count": null,
   "metadata": {},
   "outputs": [],
   "source": [
    "n = int(input())\n",
    "for i in range(n):\n",
    "    for j in range(n):\n",
    "        print(\"*\", end=\" \")\n",
    "    print()  "
   ]
  },
  {
   "cell_type": "raw",
   "metadata": {
    "vscode": {
     "languageId": "raw"
    }
   },
   "source": [
    "* \n",
    "* * \n",
    "* * *\n",
    "* * * *\n",
    "* * * * *\n",
    "* * * * * *"
   ]
  },
  {
   "cell_type": "code",
   "execution_count": null,
   "metadata": {},
   "outputs": [],
   "source": [
    "# Number of rows\n",
    "rows = 6\n",
    "\n",
    "# Loop to print the pattern\n",
    "for i in range(1, rows + 1):\n",
    "    for j in range(i):\n",
    "        print(\"*\", end=\" \")\n",
    "    print()  # Move to the next line after printing one row"
   ]
  },
  {
   "cell_type": "raw",
   "metadata": {
    "vscode": {
     "languageId": "raw"
    }
   },
   "source": [
    "1\n",
    "1 2 \n",
    "1 2 3"
   ]
  },
  {
   "cell_type": "code",
   "execution_count": null,
   "metadata": {},
   "outputs": [],
   "source": [
    "num_rows = int(input(\"Enter the number of rows: \"))  # Convert input to an integer\n",
    "if num_rows > 0:\n",
    "        # Loop to print the pattern\n",
    "    for i in range(1, num_rows + 1):\n",
    "        for j in range(1, i + 1):\n",
    "            print(j, end=\" \")  # Print numbers from 1 to i\n",
    "        print()  # Move to the next line after printing one row"
   ]
  },
  {
   "cell_type": "raw",
   "metadata": {
    "vscode": {
     "languageId": "raw"
    }
   },
   "source": [
    "1\n",
    "2 2\n",
    "3 3 3\n",
    "4 4 4 4\n",
    "5 5 5 5 5\n",
    "6 6 6 6 6 6"
   ]
  },
  {
   "cell_type": "code",
   "execution_count": null,
   "metadata": {},
   "outputs": [],
   "source": [
    "num_rows = int(input(\"Enter the number of rows: \"))  # Convert input to an integer\n",
    "if num_rows > 0:\n",
    "                               # Loop to print the pattern\n",
    "    for i in range(1, num_rows + 1):\n",
    "        for j in range(i):\n",
    "            print(i, end=\" \")  # Print the current row number i, repeated i times\n",
    "        print()                # Move to the next line after printing one row"
   ]
  },
  {
   "cell_type": "raw",
   "metadata": {
    "vscode": {
     "languageId": "raw"
    }
   },
   "source": [
    "* * * * * *\n",
    "* * * * * \n",
    "* * * * \n",
    "* * * \n",
    "* * \n",
    "* "
   ]
  },
  {
   "cell_type": "code",
   "execution_count": null,
   "metadata": {},
   "outputs": [],
   "source": [
    "num_rows = int(input(\"Enter the number of rows: \"))  # Convert input to an integer\n",
    "if num_rows > 0:\n",
    "        # Loop to print the pattern\n",
    "    for i in range(num_rows, 0, -1):  # Start from num_rows and decrease to 1\n",
    "        for j in range(i):\n",
    "            print(\"*\", end=\" \")  # Print an asterisk\n",
    "        print()  # Move to the next line after printing one row"
   ]
  },
  {
   "cell_type": "raw",
   "metadata": {
    "vscode": {
     "languageId": "raw"
    }
   },
   "source": [
    "     *     \n",
    "    ***    \n",
    "   *****   \n",
    "  *******  \n",
    " ********* \n",
    "***********"
   ]
  },
  {
   "cell_type": "code",
   "execution_count": null,
   "metadata": {},
   "outputs": [],
   "source": [
    "# Take user input for the number of rows\n",
    "num_rows = int(input(\"Enter the number of rows: \"))  # Convert input to an integer\n",
    "\n",
    "# Loop to print the pattern\n",
    "for i in range(num_rows):\n",
    "    # Print spaces\n",
    "    for j in range(num_rows - i - 1):\n",
    "        print(\" \", end=\" \")\n",
    "    # Print asterisks\n",
    "    for k in range(2 * i + 1):\n",
    "        print(\"*\", end=\" \")\n",
    "    print()  # Move to the next line after printing one row"
   ]
  },
  {
   "cell_type": "raw",
   "metadata": {
    "vscode": {
     "languageId": "raw"
    }
   },
   "source": [
    "***********\n",
    " *********\n",
    "  *******\n",
    "   ***** \n",
    "    ***    \n",
    "     *"
   ]
  },
  {
   "cell_type": "code",
   "execution_count": null,
   "metadata": {},
   "outputs": [],
   "source": [
    "# Take user input for the number of rows\n",
    "num_rows = int(input(\"Enter the number of rows: \"))  # Convert input to an integer\n",
    "\n",
    "# Loop to print the pattern\n",
    "for i in range(num_rows):\n",
    "    # Print spaces\n",
    "    for j in range(i):\n",
    "        print(\" \", end=\" \")\n",
    "    # Print asterisks\n",
    "    for k in range(2 * (num_rows - i) - 1):\n",
    "        print(\"*\", end=\" \")\n",
    "    print()  # Move to the next line after printing one row\n",
    "\n"
   ]
  },
  {
   "cell_type": "raw",
   "metadata": {
    "vscode": {
     "languageId": "raw"
    }
   },
   "source": [
    "     *\n",
    "    ***\n",
    "   ***** \n",
    "  *******\n",
    " *********\n",
    "***********  \n",
    "***********\n",
    " *********\n",
    "  *******\n",
    "   ***** \n",
    "    ***    \n",
    "     *"
   ]
  },
  {
   "cell_type": "code",
   "execution_count": null,
   "metadata": {},
   "outputs": [],
   "source": [
    "# Take user input for the number of rows\n",
    "num_rows = int(input(\"Enter the number of rows: \"))  # Convert input to an integer\n",
    "\n",
    "# Loop to print the pyramid pattern\n",
    "for i in range(num_rows):\n",
    "    # Print spaces for pyramid\n",
    "    for j in range(num_rows - i - 1):\n",
    "        print(\" \", end=\" \")\n",
    "    # Print asterisks for pyramid\n",
    "    for k in range(2 * i + 1):\n",
    "        print(\"*\", end=\" \")\n",
    "    print()  # Move to the next line after printing one row\n",
    "\n",
    "# Loop to print the inverted pyramid pattern\n",
    "for i in range(num_rows):\n",
    "    # Print spaces for inverted pyramid\n",
    "    for j in range(i):\n",
    "        print(\" \", end=\" \")\n",
    "    # Print asterisks for inverted pyramid\n",
    "    for k in range(2 * (num_rows - i) - 1):\n",
    "        print(\"*\", end=\" \")\n",
    "    print()  # Move to the next line after printing one row"
   ]
  },
  {
   "cell_type": "raw",
   "metadata": {
    "vscode": {
     "languageId": "raw"
    }
   },
   "source": [
    "     *\n",
    "     **\n",
    "     *** \n",
    "     ****\n",
    "     *****\n",
    "     ******  \n",
    "     *****\n",
    "     ****\n",
    "     ***    \n",
    "     **\n",
    "     *"
   ]
  },
  {
   "cell_type": "code",
   "execution_count": null,
   "metadata": {},
   "outputs": [],
   "source": [
    "# Take user input for the number of rows\n",
    "num_rows = int(input(\"Enter the number of rows: \"))  # Convert input to an integer\n",
    "\n",
    "# Loop to print the increasing pattern\n",
    "for i in range(1, num_rows + 1):\n",
    "    # Print spaces for alignment\n",
    "    for j in range(num_rows - i):\n",
    "        print(\" \", end=\" \")\n",
    "    # Print asterisks\n",
    "    for k in range(i):\n",
    "        print(\"*\", end=\" \")\n",
    "    print()  # Move to the next line after printing one row\n",
    "\n",
    "# Loop to print the decreasing pattern\n",
    "for i in range(num_rows - 1, 0, -1):\n",
    "    # Print spaces for alignment\n",
    "    for j in range(num_rows - i):\n",
    "        print(\" \", end=\" \")\n",
    "    # Print asterisks\n",
    "    for k in range(i):\n",
    "        print(\"*\", end=\" \")\n",
    "    print()  # Move to the next line after printing one row"
   ]
  },
  {
   "cell_type": "raw",
   "metadata": {
    "vscode": {
     "languageId": "raw"
    }
   },
   "source": [
    "     1\n",
    "    1 1\n",
    "   1 2 1\n",
    "  1 3 3 1\n",
    " 1 4 6 4 1"
   ]
  },
  {
   "cell_type": "code",
   "execution_count": 1,
   "metadata": {},
   "outputs": [
    {
     "name": "stdout",
     "output_type": "stream",
     "text": [
      "         1\n",
      "        1 1\n",
      "       1 2 1\n",
      "      1 3 3 1\n",
      "     1 4 6 4 1\n",
      "    1 5 10 10 5 1\n",
      "   1 6 15 20 15 6 1\n",
      "  1 7 21 35 35 21 7 1\n"
     ]
    }
   ],
   "source": [
    "# Take user input for the number of rows\n",
    "num_rows = int(input(\"Enter the number of rows for Pascal's Triangle: \"))  # Convert input to an integer\n",
    "\n",
    "# Initialize the triangle with the first row\n",
    "triangle = []\n",
    "\n",
    "# Loop to generate the triangle\n",
    "for i in range(num_rows):\n",
    "    # Create a new row with appropriate values\n",
    "    row = [1] * (i + 1)  # Start with all 1's\n",
    "\n",
    "    # Fill in the values based on the previous row\n",
    "    for j in range(1, i):\n",
    "        row[j] = triangle[i - 1][j - 1] + triangle[i - 1][j]\n",
    "\n",
    "    triangle.append(row)  # Add the row to the triangle\n",
    "\n",
    "# Loop to print Pascal's Triangle\n",
    "for i in range(num_rows):\n",
    "    # Print spaces for alignment\n",
    "    print(\" \" * (num_rows - i), end=\" \")\n",
    "    print(\" \".join(map(str, triangle[i])))  # Print the row"
   ]
  }
 ],
 "metadata": {
  "kernelspec": {
   "display_name": "Python 3",
   "language": "python",
   "name": "python3"
  },
  "language_info": {
   "codemirror_mode": {
    "name": "ipython",
    "version": 3
   },
   "file_extension": ".py",
   "mimetype": "text/x-python",
   "name": "python",
   "nbconvert_exporter": "python",
   "pygments_lexer": "ipython3",
   "version": "3.12.4"
  }
 },
 "nbformat": 4,
 "nbformat_minor": 2
}
